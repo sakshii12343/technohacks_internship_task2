{
 "cells": [
  {
   "cell_type": "code",
   "execution_count": 1,
   "id": "ba340195-20ee-4c2b-ade5-d67203809157",
   "metadata": {},
   "outputs": [
    {
     "name": "stdout",
     "output_type": "stream",
     "text": [
      "Requirement already satisfied: numpy in c:\\users\\welcome\\appdata\\local\\programs\\python\\python311\\lib\\site-packages (1.24.3)\n",
      "Requirement already satisfied: pandas in c:\\users\\welcome\\appdata\\local\\programs\\python\\python311\\lib\\site-packages (2.0.3)\n",
      "Requirement already satisfied: python-dateutil>=2.8.2 in c:\\users\\welcome\\appdata\\local\\programs\\python\\python311\\lib\\site-packages (from pandas) (2.8.2)\n",
      "Requirement already satisfied: pytz>=2020.1 in c:\\users\\welcome\\appdata\\local\\programs\\python\\python311\\lib\\site-packages (from pandas) (2023.3)\n",
      "Requirement already satisfied: tzdata>=2022.1 in c:\\users\\welcome\\appdata\\local\\programs\\python\\python311\\lib\\site-packages (from pandas) (2023.3)\n",
      "Requirement already satisfied: numpy>=1.21.0 in c:\\users\\welcome\\appdata\\local\\programs\\python\\python311\\lib\\site-packages (from pandas) (1.24.3)\n",
      "Requirement already satisfied: six>=1.5 in c:\\users\\welcome\\appdata\\local\\programs\\python\\python311\\lib\\site-packages (from python-dateutil>=2.8.2->pandas) (1.16.0)\n",
      "Requirement already satisfied: seaborn in c:\\users\\welcome\\appdata\\local\\programs\\python\\python311\\lib\\site-packages (0.12.2)\n",
      "Requirement already satisfied: numpy!=1.24.0,>=1.17 in c:\\users\\welcome\\appdata\\local\\programs\\python\\python311\\lib\\site-packages (from seaborn) (1.24.3)\n",
      "Requirement already satisfied: pandas>=0.25 in c:\\users\\welcome\\appdata\\local\\programs\\python\\python311\\lib\\site-packages (from seaborn) (2.0.3)\n",
      "Requirement already satisfied: matplotlib!=3.6.1,>=3.1 in c:\\users\\welcome\\appdata\\local\\programs\\python\\python311\\lib\\site-packages (from seaborn) (3.7.2)\n",
      "Requirement already satisfied: contourpy>=1.0.1 in c:\\users\\welcome\\appdata\\local\\programs\\python\\python311\\lib\\site-packages (from matplotlib!=3.6.1,>=3.1->seaborn) (1.1.0)\n",
      "Requirement already satisfied: cycler>=0.10 in c:\\users\\welcome\\appdata\\local\\programs\\python\\python311\\lib\\site-packages (from matplotlib!=3.6.1,>=3.1->seaborn) (0.11.0)\n",
      "Requirement already satisfied: fonttools>=4.22.0 in c:\\users\\welcome\\appdata\\local\\programs\\python\\python311\\lib\\site-packages (from matplotlib!=3.6.1,>=3.1->seaborn) (4.41.1)\n",
      "Requirement already satisfied: kiwisolver>=1.0.1 in c:\\users\\welcome\\appdata\\local\\programs\\python\\python311\\lib\\site-packages (from matplotlib!=3.6.1,>=3.1->seaborn) (1.4.4)\n",
      "Requirement already satisfied: packaging>=20.0 in c:\\users\\welcome\\appdata\\local\\programs\\python\\python311\\lib\\site-packages (from matplotlib!=3.6.1,>=3.1->seaborn) (23.1)\n",
      "Requirement already satisfied: pillow>=6.2.0 in c:\\users\\welcome\\appdata\\local\\programs\\python\\python311\\lib\\site-packages (from matplotlib!=3.6.1,>=3.1->seaborn) (10.0.0)\n",
      "Requirement already satisfied: pyparsing<3.1,>=2.3.1 in c:\\users\\welcome\\appdata\\local\\programs\\python\\python311\\lib\\site-packages (from matplotlib!=3.6.1,>=3.1->seaborn) (3.0.9)\n",
      "Requirement already satisfied: python-dateutil>=2.7 in c:\\users\\welcome\\appdata\\local\\programs\\python\\python311\\lib\\site-packages (from matplotlib!=3.6.1,>=3.1->seaborn) (2.8.2)\n",
      "Requirement already satisfied: pytz>=2020.1 in c:\\users\\welcome\\appdata\\local\\programs\\python\\python311\\lib\\site-packages (from pandas>=0.25->seaborn) (2023.3)\n",
      "Requirement already satisfied: tzdata>=2022.1 in c:\\users\\welcome\\appdata\\local\\programs\\python\\python311\\lib\\site-packages (from pandas>=0.25->seaborn) (2023.3)\n",
      "Requirement already satisfied: six>=1.5 in c:\\users\\welcome\\appdata\\local\\programs\\python\\python311\\lib\\site-packages (from python-dateutil>=2.7->matplotlib!=3.6.1,>=3.1->seaborn) (1.16.0)\n",
      "Requirement already satisfied: matplotlib in c:\\users\\welcome\\appdata\\local\\programs\\python\\python311\\lib\\site-packages (3.7.2)\n",
      "Requirement already satisfied: contourpy>=1.0.1 in c:\\users\\welcome\\appdata\\local\\programs\\python\\python311\\lib\\site-packages (from matplotlib) (1.1.0)\n",
      "Requirement already satisfied: cycler>=0.10 in c:\\users\\welcome\\appdata\\local\\programs\\python\\python311\\lib\\site-packages (from matplotlib) (0.11.0)\n",
      "Requirement already satisfied: fonttools>=4.22.0 in c:\\users\\welcome\\appdata\\local\\programs\\python\\python311\\lib\\site-packages (from matplotlib) (4.41.1)\n",
      "Requirement already satisfied: kiwisolver>=1.0.1 in c:\\users\\welcome\\appdata\\local\\programs\\python\\python311\\lib\\site-packages (from matplotlib) (1.4.4)\n",
      "Requirement already satisfied: numpy>=1.20 in c:\\users\\welcome\\appdata\\local\\programs\\python\\python311\\lib\\site-packages (from matplotlib) (1.24.3)\n",
      "Requirement already satisfied: packaging>=20.0 in c:\\users\\welcome\\appdata\\local\\programs\\python\\python311\\lib\\site-packages (from matplotlib) (23.1)\n",
      "Requirement already satisfied: pillow>=6.2.0 in c:\\users\\welcome\\appdata\\local\\programs\\python\\python311\\lib\\site-packages (from matplotlib) (10.0.0)\n",
      "Requirement already satisfied: pyparsing<3.1,>=2.3.1 in c:\\users\\welcome\\appdata\\local\\programs\\python\\python311\\lib\\site-packages (from matplotlib) (3.0.9)\n",
      "Requirement already satisfied: python-dateutil>=2.7 in c:\\users\\welcome\\appdata\\local\\programs\\python\\python311\\lib\\site-packages (from matplotlib) (2.8.2)\n",
      "Requirement already satisfied: six>=1.5 in c:\\users\\welcome\\appdata\\local\\programs\\python\\python311\\lib\\site-packages (from python-dateutil>=2.7->matplotlib) (1.16.0)\n"
     ]
    }
   ],
   "source": [
    "!pip install numpy\n",
    "!pip install pandas\n",
    "!pip install seaborn\n",
    "!pip install matplotlib"
   ]
  },
  {
   "cell_type": "code",
   "execution_count": 2,
   "id": "6ec3a050-ac92-4d32-a649-b4ac8c4f7f77",
   "metadata": {},
   "outputs": [],
   "source": [
    "import numpy as np # linear algebra\n",
    "import pandas as pd # data processing, CSV file I/O (e.g. pd.read_csv)\n",
    "import seaborn as sns\n",
    "import matplotlib.pyplot as plt"
   ]
  },
  {
   "cell_type": "code",
   "execution_count": 3,
   "id": "0e6379e0-5683-4246-a0ef-16201ed491e0",
   "metadata": {},
   "outputs": [],
   "source": [
    "data = pd.read_csv(\"tsla.us.txt\")"
   ]
  },
  {
   "cell_type": "code",
   "execution_count": 4,
   "id": "89746fb3-acb6-47f4-a1b9-75625c9532e4",
   "metadata": {},
   "outputs": [
    {
     "data": {
      "text/html": [
       "<div>\n",
       "<style scoped>\n",
       "    .dataframe tbody tr th:only-of-type {\n",
       "        vertical-align: middle;\n",
       "    }\n",
       "\n",
       "    .dataframe tbody tr th {\n",
       "        vertical-align: top;\n",
       "    }\n",
       "\n",
       "    .dataframe thead th {\n",
       "        text-align: right;\n",
       "    }\n",
       "</style>\n",
       "<table border=\"1\" class=\"dataframe\">\n",
       "  <thead>\n",
       "    <tr style=\"text-align: right;\">\n",
       "      <th></th>\n",
       "      <th>Date</th>\n",
       "      <th>Open</th>\n",
       "      <th>High</th>\n",
       "      <th>Low</th>\n",
       "      <th>Close</th>\n",
       "      <th>Volume</th>\n",
       "      <th>OpenInt</th>\n",
       "    </tr>\n",
       "  </thead>\n",
       "  <tbody>\n",
       "    <tr>\n",
       "      <th>0</th>\n",
       "      <td>2010-06-28</td>\n",
       "      <td>17.00</td>\n",
       "      <td>17.00</td>\n",
       "      <td>17.00</td>\n",
       "      <td>17.00</td>\n",
       "      <td>0</td>\n",
       "      <td>0</td>\n",
       "    </tr>\n",
       "    <tr>\n",
       "      <th>1</th>\n",
       "      <td>2010-06-29</td>\n",
       "      <td>19.00</td>\n",
       "      <td>25.00</td>\n",
       "      <td>17.54</td>\n",
       "      <td>23.89</td>\n",
       "      <td>18783276</td>\n",
       "      <td>0</td>\n",
       "    </tr>\n",
       "    <tr>\n",
       "      <th>2</th>\n",
       "      <td>2010-06-30</td>\n",
       "      <td>25.79</td>\n",
       "      <td>30.42</td>\n",
       "      <td>23.30</td>\n",
       "      <td>23.83</td>\n",
       "      <td>17194394</td>\n",
       "      <td>0</td>\n",
       "    </tr>\n",
       "    <tr>\n",
       "      <th>3</th>\n",
       "      <td>2010-07-01</td>\n",
       "      <td>25.00</td>\n",
       "      <td>25.92</td>\n",
       "      <td>20.27</td>\n",
       "      <td>21.96</td>\n",
       "      <td>8229863</td>\n",
       "      <td>0</td>\n",
       "    </tr>\n",
       "    <tr>\n",
       "      <th>4</th>\n",
       "      <td>2010-07-02</td>\n",
       "      <td>23.00</td>\n",
       "      <td>23.10</td>\n",
       "      <td>18.71</td>\n",
       "      <td>19.20</td>\n",
       "      <td>5141807</td>\n",
       "      <td>0</td>\n",
       "    </tr>\n",
       "  </tbody>\n",
       "</table>\n",
       "</div>"
      ],
      "text/plain": [
       "         Date   Open   High    Low  Close    Volume  OpenInt\n",
       "0  2010-06-28  17.00  17.00  17.00  17.00         0        0\n",
       "1  2010-06-29  19.00  25.00  17.54  23.89  18783276        0\n",
       "2  2010-06-30  25.79  30.42  23.30  23.83  17194394        0\n",
       "3  2010-07-01  25.00  25.92  20.27  21.96   8229863        0\n",
       "4  2010-07-02  23.00  23.10  18.71  19.20   5141807        0"
      ]
     },
     "execution_count": 4,
     "metadata": {},
     "output_type": "execute_result"
    }
   ],
   "source": [
    "data.head()"
   ]
  },
  {
   "cell_type": "code",
   "execution_count": 5,
   "id": "e3cf0da8-32a6-4532-a341-87a19fc6d1cc",
   "metadata": {},
   "outputs": [
    {
     "name": "stdout",
     "output_type": "stream",
     "text": [
      "Data Shape --> (1858, 7)\n"
     ]
    }
   ],
   "source": [
    "print(\"Data Shape -->\", data.shape)"
   ]
  },
  {
   "cell_type": "code",
   "execution_count": 6,
   "id": "b2008648-3a80-4de7-abaf-dbe085a4076a",
   "metadata": {},
   "outputs": [
    {
     "data": {
      "text/html": [
       "<div>\n",
       "<style scoped>\n",
       "    .dataframe tbody tr th:only-of-type {\n",
       "        vertical-align: middle;\n",
       "    }\n",
       "\n",
       "    .dataframe tbody tr th {\n",
       "        vertical-align: top;\n",
       "    }\n",
       "\n",
       "    .dataframe thead th {\n",
       "        text-align: right;\n",
       "    }\n",
       "</style>\n",
       "<table border=\"1\" class=\"dataframe\">\n",
       "  <thead>\n",
       "    <tr style=\"text-align: right;\">\n",
       "      <th></th>\n",
       "      <th>Open</th>\n",
       "      <th>High</th>\n",
       "      <th>Low</th>\n",
       "      <th>Close</th>\n",
       "      <th>Volume</th>\n",
       "      <th>OpenInt</th>\n",
       "    </tr>\n",
       "  </thead>\n",
       "  <tbody>\n",
       "    <tr>\n",
       "      <th>count</th>\n",
       "      <td>1858.000000</td>\n",
       "      <td>1858.000000</td>\n",
       "      <td>1858.000000</td>\n",
       "      <td>1858.000000</td>\n",
       "      <td>1.858000e+03</td>\n",
       "      <td>1858.0</td>\n",
       "    </tr>\n",
       "    <tr>\n",
       "      <th>mean</th>\n",
       "      <td>150.389741</td>\n",
       "      <td>152.898737</td>\n",
       "      <td>147.688064</td>\n",
       "      <td>150.355047</td>\n",
       "      <td>4.416508e+06</td>\n",
       "      <td>0.0</td>\n",
       "    </tr>\n",
       "    <tr>\n",
       "      <th>std</th>\n",
       "      <td>107.071675</td>\n",
       "      <td>108.490099</td>\n",
       "      <td>105.481665</td>\n",
       "      <td>107.023737</td>\n",
       "      <td>4.244294e+06</td>\n",
       "      <td>0.0</td>\n",
       "    </tr>\n",
       "    <tr>\n",
       "      <th>min</th>\n",
       "      <td>16.140000</td>\n",
       "      <td>16.630000</td>\n",
       "      <td>8.030000</td>\n",
       "      <td>15.800000</td>\n",
       "      <td>0.000000e+00</td>\n",
       "      <td>0.0</td>\n",
       "    </tr>\n",
       "    <tr>\n",
       "      <th>25%</th>\n",
       "      <td>31.002500</td>\n",
       "      <td>31.732500</td>\n",
       "      <td>30.285000</td>\n",
       "      <td>31.112500</td>\n",
       "      <td>1.283324e+06</td>\n",
       "      <td>0.0</td>\n",
       "    </tr>\n",
       "    <tr>\n",
       "      <th>50%</th>\n",
       "      <td>184.440000</td>\n",
       "      <td>188.660000</td>\n",
       "      <td>181.450000</td>\n",
       "      <td>184.850000</td>\n",
       "      <td>3.421026e+06</td>\n",
       "      <td>0.0</td>\n",
       "    </tr>\n",
       "    <tr>\n",
       "      <th>75%</th>\n",
       "      <td>231.477500</td>\n",
       "      <td>235.375000</td>\n",
       "      <td>227.772500</td>\n",
       "      <td>230.920000</td>\n",
       "      <td>5.917672e+06</td>\n",
       "      <td>0.0</td>\n",
       "    </tr>\n",
       "    <tr>\n",
       "      <th>max</th>\n",
       "      <td>386.690000</td>\n",
       "      <td>389.610000</td>\n",
       "      <td>379.345000</td>\n",
       "      <td>385.000000</td>\n",
       "      <td>3.714989e+07</td>\n",
       "      <td>0.0</td>\n",
       "    </tr>\n",
       "  </tbody>\n",
       "</table>\n",
       "</div>"
      ],
      "text/plain": [
       "              Open         High          Low        Close        Volume  \\\n",
       "count  1858.000000  1858.000000  1858.000000  1858.000000  1.858000e+03   \n",
       "mean    150.389741   152.898737   147.688064   150.355047  4.416508e+06   \n",
       "std     107.071675   108.490099   105.481665   107.023737  4.244294e+06   \n",
       "min      16.140000    16.630000     8.030000    15.800000  0.000000e+00   \n",
       "25%      31.002500    31.732500    30.285000    31.112500  1.283324e+06   \n",
       "50%     184.440000   188.660000   181.450000   184.850000  3.421026e+06   \n",
       "75%     231.477500   235.375000   227.772500   230.920000  5.917672e+06   \n",
       "max     386.690000   389.610000   379.345000   385.000000  3.714989e+07   \n",
       "\n",
       "       OpenInt  \n",
       "count   1858.0  \n",
       "mean       0.0  \n",
       "std        0.0  \n",
       "min        0.0  \n",
       "25%        0.0  \n",
       "50%        0.0  \n",
       "75%        0.0  \n",
       "max        0.0  "
      ]
     },
     "execution_count": 6,
     "metadata": {},
     "output_type": "execute_result"
    }
   ],
   "source": [
    "data.describe()"
   ]
  },
  {
   "cell_type": "code",
   "execution_count": 7,
   "id": "cc308312-3f12-4f50-88f9-face6377699d",
   "metadata": {},
   "outputs": [
    {
     "name": "stdout",
     "output_type": "stream",
     "text": [
      "Do you have a null column? \n",
      " Date       0\n",
      "Open       0\n",
      "High       0\n",
      "Low        0\n",
      "Close      0\n",
      "Volume     0\n",
      "OpenInt    0\n",
      "dtype: int64\n"
     ]
    }
   ],
   "source": [
    "print(\"Do you have a null column? \\n\", data.isna().sum())"
   ]
  },
  {
   "cell_type": "markdown",
   "id": "b4fcd103-36e4-4878-9860-7d214119994c",
   "metadata": {},
   "source": [
    "# Data Pre-processing"
   ]
  },
  {
   "cell_type": "markdown",
   "id": "a44685e6-d2c3-4e02-a105-0d714bcaa7ac",
   "metadata": {},
   "source": [
    "## Split The data Into Train and Test"
   ]
  },
  {
   "cell_type": "code",
   "execution_count": 8,
   "id": "2a682f1d-0889-4a4a-bdbd-04190cdde837",
   "metadata": {},
   "outputs": [],
   "source": [
    "training_size = int(len(data)*0.80)\n",
    "data_len = len(data)\n",
    "\n",
    "train, test = data[0:training_size],data[training_size:data_len]"
   ]
  },
  {
   "cell_type": "code",
   "execution_count": 9,
   "id": "bcc72d76-132a-4279-9093-441c0f4a74f8",
   "metadata": {},
   "outputs": [
    {
     "name": "stdout",
     "output_type": "stream",
     "text": [
      "Training Size -->  1486\n",
      "total length of data -->  1858\n",
      "Train length -->  1486\n",
      "Test length -->  372\n"
     ]
    }
   ],
   "source": [
    "print(\"Training Size --> \", training_size)\n",
    "print(\"total length of data --> \", data_len)\n",
    "print(\"Train length --> \", len(train))\n",
    "print(\"Test length --> \", len(test))"
   ]
  },
  {
   "cell_type": "markdown",
   "id": "feb5586d-aafe-401e-9cee-8e34ae6e2c21",
   "metadata": {},
   "source": [
    "# Normalizing The Data"
   ]
  },
  {
   "cell_type": "raw",
   "id": "93c0f11a-08cc-4747-a2f8-6d97c350225e",
   "metadata": {},
   "source": [
    "Normailization is very important concept in deep learning. The more you normailize the data it would be easier for the model to make the prediction The prediction will be more accurately by normailizing the data.\n",
    "\n",
    "We are using Open Feature to normailize this data by using Min MaxScaler"
   ]
  },
  {
   "cell_type": "code",
   "execution_count": 10,
   "id": "d787e849-8db2-4073-8538-61ce9d13ba87",
   "metadata": {},
   "outputs": [],
   "source": [
    "# the part of data that we will use as training.\n",
    "train = train.loc[:, [\"Open\"]].values\n",
    "\n",
    "from sklearn.preprocessing import MinMaxScaler\n",
    "scaler = MinMaxScaler(feature_range=(0, 1))\n",
    "train_scaled = scaler.fit_transform(train)"
   ]
  },
  {
   "cell_type": "raw",
   "id": "207b5cca-3b6e-486c-9c96-fe4862f09e0c",
   "metadata": {},
   "source": [
    "Spilit The data in X_Train , Y train\n",
    "\n",
    "Normalize the data into X_train and Y train\n",
    "\n",
    "Fix the steps with the value of 40"
   ]
  },
  {
   "cell_type": "code",
   "execution_count": 11,
   "id": "f2460929-4164-4708-940c-71ed166efa08",
   "metadata": {},
   "outputs": [],
   "source": [
    "end_len = len(train_scaled)\n",
    "X_train = []\n",
    "y_train = []\n",
    "timesteps = 40\n",
    "\n",
    "for i in range(timesteps, end_len):\n",
    "    X_train.append(train_scaled[i - timesteps:i, 0])\n",
    "    y_train.append(train_scaled[i, 0])\n",
    "X_train, y_train = np.array(X_train), np.array(y_train)"
   ]
  },
  {
   "cell_type": "markdown",
   "id": "290dd1e3-b91f-408a-a504-3bc41bb99760",
   "metadata": {},
   "source": [
    "# Rehsape The Data"
   ]
  },
  {
   "cell_type": "raw",
   "id": "b37f5829-8dd9-4bc8-9354-e48e5338f60e",
   "metadata": {},
   "source": [
    "One of the most basic points to be considered in RNNs is that they want their input to have 3 dimensions.\n",
    "\n",
    "Shape is typically depend on these three\n",
    "\n",
    "1 the size of data we have\n",
    "\n",
    "2 Number of Steps\n",
    "\n",
    "3 Number of Feature's"
   ]
  },
  {
   "cell_type": "code",
   "execution_count": 12,
   "id": "677b5cc7-544c-4f2f-acd8-e15db6d8ef07",
   "metadata": {},
   "outputs": [
    {
     "name": "stdout",
     "output_type": "stream",
     "text": [
      "X_train -->  (1446, 40, 1)\n",
      "y_train shape -->  (1446,)\n"
     ]
    }
   ],
   "source": [
    "X_train = np.reshape(X_train, (X_train.shape[0], X_train.shape[1], 1))\n",
    "print(\"X_train --> \", X_train.shape)\n",
    "print(\"y_train shape --> \", y_train.shape)"
   ]
  },
  {
   "cell_type": "markdown",
   "id": "883b81b0-54db-45f1-9b2b-d52b0c2f5ea4",
   "metadata": {},
   "source": [
    "# Making The Model"
   ]
  },
  {
   "cell_type": "code",
   "execution_count": 13,
   "id": "9b456625-8db0-4a0a-9349-01f9e0ec01ed",
   "metadata": {},
   "outputs": [],
   "source": [
    "from keras.models import Sequential\n",
    "from keras.layers import Dense\n",
    "from keras.layers import SimpleRNN\n",
    "from keras.layers import Dropout"
   ]
  },
  {
   "cell_type": "raw",
   "id": "cf785fb0-15ab-4131-ac1a-9b95d3bcf2b5",
   "metadata": {},
   "source": [
    "using Simple RNN more details can be found [Here](https://keras.io/api/layers/recurrent_layers/simple_rnn/)\n",
    "\n",
    "We are using tanh activation function"
   ]
  },
  {
   "cell_type": "code",
   "execution_count": 14,
   "id": "cfdfcd89-782d-4395-b73a-89651ed46c91",
   "metadata": {},
   "outputs": [],
   "source": [
    "regressor = Sequential()\n",
    "\n",
    "regressor.add(SimpleRNN(units = 50, activation = \"tanh\", return_sequences = True, input_shape = (X_train.shape[1],1)))\n",
    "regressor.add(Dropout(0.2))\n",
    "\n",
    "regressor.add(SimpleRNN(units = 50, activation = \"tanh\", return_sequences = True))\n",
    "regressor.add(Dropout(0.2))\n",
    "\n",
    "regressor.add(SimpleRNN(units = 50, activation = \"tanh\", return_sequences = True))\n",
    "regressor.add(Dropout(0.2))\n",
    "\n",
    "regressor.add(SimpleRNN(units = 50))\n",
    "regressor.add(Dropout(0.2))\n",
    "\n",
    "regressor.add(Dense(units = 1))"
   ]
  },
  {
   "cell_type": "raw",
   "id": "6a631c0f-e5b0-4ea7-8f10-d79ffa9d920c",
   "metadata": {},
   "source": [
    "2022-12-17 13:33:08.658334: I tensorflow/core/common_runtime/process_util.cc:146] Creating new thread pool with default inter op setting: 2. Tune using inter_op_parallelism_threads for best performance."
   ]
  },
  {
   "cell_type": "markdown",
   "id": "d25f2dc7-5152-443e-adba-06099e52f824",
   "metadata": {},
   "source": [
    "# Complie The Model"
   ]
  },
  {
   "cell_type": "raw",
   "id": "130d4fcd-b6a0-43b9-9717-65ea3407c983",
   "metadata": {},
   "source": [
    "**Optimizer** The task of the opimitezer is to update the parameters\n",
    "\n",
    "**Loss** it shows to the model that whats the difference between the actual thing and the predicting thing."
   ]
  },
  {
   "cell_type": "code",
   "execution_count": 16,
   "id": "5941dd06-f037-4c60-85f4-3596cb5d0164",
   "metadata": {},
   "outputs": [],
   "source": [
    "regressor.compile(optimizer= \"adam\", loss = \"mean_squared_error\")"
   ]
  },
  {
   "cell_type": "code",
   "execution_count": 17,
   "id": "f6496b7f-c745-4f4c-bfb2-50c142061455",
   "metadata": {},
   "outputs": [],
   "source": [
    "epochs = 100 \n",
    "batch_size = 20"
   ]
  },
  {
   "cell_type": "raw",
   "id": "279ee0e1-2a2b-459a-8233-93106ed9899d",
   "metadata": {},
   "source": [
    "**Epoch: ** One epoch is the forward pass and backward pass of the training data.\n",
    "\n",
    "**Batch Size** we cannot pass the whole training data in one go we send the data in some amount."
   ]
  },
  {
   "cell_type": "code",
   "execution_count": 18,
   "id": "ae47c74e-604c-404c-bbf8-607b4ec9f367",
   "metadata": {},
   "outputs": [
    {
     "name": "stdout",
     "output_type": "stream",
     "text": [
      "Epoch 1/100\n",
      "73/73 [==============================] - 10s 44ms/step - loss: 0.3693\n",
      "Epoch 2/100\n",
      "73/73 [==============================] - 3s 43ms/step - loss: 0.1711\n",
      "Epoch 3/100\n",
      "73/73 [==============================] - 3s 45ms/step - loss: 0.1175\n",
      "Epoch 4/100\n",
      "73/73 [==============================] - 3s 44ms/step - loss: 0.0708\n",
      "Epoch 5/100\n",
      "73/73 [==============================] - 3s 44ms/step - loss: 0.0528\n",
      "Epoch 6/100\n",
      "73/73 [==============================] - 3s 43ms/step - loss: 0.0436\n",
      "Epoch 7/100\n",
      "73/73 [==============================] - 3s 44ms/step - loss: 0.0347\n",
      "Epoch 8/100\n",
      "73/73 [==============================] - 3s 44ms/step - loss: 0.0295\n",
      "Epoch 9/100\n",
      "73/73 [==============================] - 3s 45ms/step - loss: 0.0267\n",
      "Epoch 10/100\n",
      "73/73 [==============================] - 3s 43ms/step - loss: 0.0228\n",
      "Epoch 11/100\n",
      "73/73 [==============================] - 3s 45ms/step - loss: 0.0206\n",
      "Epoch 12/100\n",
      "73/73 [==============================] - 3s 43ms/step - loss: 0.0165\n",
      "Epoch 13/100\n",
      "73/73 [==============================] - 3s 43ms/step - loss: 0.0192\n",
      "Epoch 14/100\n",
      "73/73 [==============================] - 3s 45ms/step - loss: 0.0168\n",
      "Epoch 15/100\n",
      "73/73 [==============================] - 3s 45ms/step - loss: 0.0138\n",
      "Epoch 16/100\n",
      "73/73 [==============================] - 3s 44ms/step - loss: 0.0138\n",
      "Epoch 17/100\n",
      "73/73 [==============================] - 3s 44ms/step - loss: 0.0124\n",
      "Epoch 18/100\n",
      "73/73 [==============================] - 3s 45ms/step - loss: 0.0101\n",
      "Epoch 19/100\n",
      "73/73 [==============================] - 3s 44ms/step - loss: 0.0089\n",
      "Epoch 20/100\n",
      "73/73 [==============================] - 3s 44ms/step - loss: 0.0097\n",
      "Epoch 21/100\n",
      "73/73 [==============================] - 3s 44ms/step - loss: 0.0088\n",
      "Epoch 22/100\n",
      "73/73 [==============================] - 4s 48ms/step - loss: 0.0081\n",
      "Epoch 23/100\n",
      "73/73 [==============================] - 3s 46ms/step - loss: 0.0073\n",
      "Epoch 24/100\n",
      "73/73 [==============================] - 3s 46ms/step - loss: 0.0072\n",
      "Epoch 25/100\n",
      "73/73 [==============================] - 3s 46ms/step - loss: 0.0065\n",
      "Epoch 26/100\n",
      "73/73 [==============================] - 3s 44ms/step - loss: 0.0071\n",
      "Epoch 27/100\n",
      "73/73 [==============================] - 3s 44ms/step - loss: 0.0064\n",
      "Epoch 28/100\n",
      "73/73 [==============================] - 3s 45ms/step - loss: 0.0055\n",
      "Epoch 29/100\n",
      "73/73 [==============================] - 3s 45ms/step - loss: 0.0055\n",
      "Epoch 30/100\n",
      "73/73 [==============================] - 3s 43ms/step - loss: 0.0054\n",
      "Epoch 31/100\n",
      "73/73 [==============================] - 3s 44ms/step - loss: 0.0053\n",
      "Epoch 32/100\n",
      "73/73 [==============================] - 3s 46ms/step - loss: 0.0051\n",
      "Epoch 33/100\n",
      "73/73 [==============================] - 3s 45ms/step - loss: 0.0048\n",
      "Epoch 34/100\n",
      "73/73 [==============================] - 3s 47ms/step - loss: 0.0046\n",
      "Epoch 35/100\n",
      "73/73 [==============================] - 3s 47ms/step - loss: 0.0044\n",
      "Epoch 36/100\n",
      "73/73 [==============================] - 3s 45ms/step - loss: 0.0041\n",
      "Epoch 37/100\n",
      "73/73 [==============================] - 3s 47ms/step - loss: 0.0042\n",
      "Epoch 38/100\n",
      "73/73 [==============================] - 3s 46ms/step - loss: 0.0037\n",
      "Epoch 39/100\n",
      "73/73 [==============================] - 3s 44ms/step - loss: 0.0038\n",
      "Epoch 40/100\n",
      "73/73 [==============================] - 3s 45ms/step - loss: 0.0038\n",
      "Epoch 41/100\n",
      "73/73 [==============================] - 3s 46ms/step - loss: 0.0036\n",
      "Epoch 42/100\n",
      "73/73 [==============================] - 3s 46ms/step - loss: 0.0034\n",
      "Epoch 43/100\n",
      "73/73 [==============================] - 4s 49ms/step - loss: 0.0035\n",
      "Epoch 44/100\n",
      "73/73 [==============================] - 3s 46ms/step - loss: 0.0033\n",
      "Epoch 45/100\n",
      "73/73 [==============================] - 3s 45ms/step - loss: 0.0033\n",
      "Epoch 46/100\n",
      "73/73 [==============================] - 3s 46ms/step - loss: 0.0031\n",
      "Epoch 47/100\n",
      "73/73 [==============================] - 3s 46ms/step - loss: 0.0033\n",
      "Epoch 48/100\n",
      "73/73 [==============================] - 3s 46ms/step - loss: 0.0031\n",
      "Epoch 49/100\n",
      "73/73 [==============================] - 3s 46ms/step - loss: 0.0029\n",
      "Epoch 50/100\n",
      "73/73 [==============================] - 3s 45ms/step - loss: 0.0029\n",
      "Epoch 51/100\n",
      "73/73 [==============================] - 3s 45ms/step - loss: 0.0027\n",
      "Epoch 52/100\n",
      "73/73 [==============================] - 3s 46ms/step - loss: 0.0026\n",
      "Epoch 53/100\n",
      "73/73 [==============================] - 3s 44ms/step - loss: 0.0029\n",
      "Epoch 54/100\n",
      "73/73 [==============================] - 3s 48ms/step - loss: 0.0026\n",
      "Epoch 55/100\n",
      "73/73 [==============================] - 4s 49ms/step - loss: 0.0028\n",
      "Epoch 56/100\n",
      "73/73 [==============================] - 3s 45ms/step - loss: 0.0030\n",
      "Epoch 57/100\n",
      "73/73 [==============================] - 3s 45ms/step - loss: 0.0026\n",
      "Epoch 58/100\n",
      "73/73 [==============================] - 3s 45ms/step - loss: 0.0027\n",
      "Epoch 59/100\n",
      "73/73 [==============================] - 3s 45ms/step - loss: 0.0023\n",
      "Epoch 60/100\n",
      "73/73 [==============================] - 3s 45ms/step - loss: 0.0021\n",
      "Epoch 61/100\n",
      "73/73 [==============================] - 3s 45ms/step - loss: 0.0023\n",
      "Epoch 62/100\n",
      "73/73 [==============================] - 3s 47ms/step - loss: 0.0026\n",
      "Epoch 63/100\n",
      "73/73 [==============================] - 3s 44ms/step - loss: 0.0023\n",
      "Epoch 64/100\n",
      "73/73 [==============================] - 3s 45ms/step - loss: 0.0022\n",
      "Epoch 65/100\n",
      "73/73 [==============================] - 4s 48ms/step - loss: 0.0023\n",
      "Epoch 66/100\n",
      "73/73 [==============================] - 3s 44ms/step - loss: 0.0024\n",
      "Epoch 67/100\n",
      "73/73 [==============================] - 3s 43ms/step - loss: 0.0023\n",
      "Epoch 68/100\n",
      "73/73 [==============================] - 3s 44ms/step - loss: 0.0024\n",
      "Epoch 69/100\n",
      "73/73 [==============================] - 3s 44ms/step - loss: 0.0024\n",
      "Epoch 70/100\n",
      "73/73 [==============================] - 3s 44ms/step - loss: 0.0022\n",
      "Epoch 71/100\n",
      "73/73 [==============================] - 3s 43ms/step - loss: 0.0022\n",
      "Epoch 72/100\n",
      "73/73 [==============================] - 3s 45ms/step - loss: 0.0021\n",
      "Epoch 73/100\n",
      "73/73 [==============================] - 3s 44ms/step - loss: 0.0024\n",
      "Epoch 74/100\n",
      "73/73 [==============================] - 3s 45ms/step - loss: 0.0025\n",
      "Epoch 75/100\n",
      "73/73 [==============================] - 3s 44ms/step - loss: 0.0021\n",
      "Epoch 76/100\n",
      "73/73 [==============================] - 3s 45ms/step - loss: 0.0025\n",
      "Epoch 77/100\n",
      "73/73 [==============================] - 3s 44ms/step - loss: 0.0023\n",
      "Epoch 78/100\n",
      "73/73 [==============================] - 3s 43ms/step - loss: 0.0022\n",
      "Epoch 79/100\n",
      "73/73 [==============================] - 3s 45ms/step - loss: 0.0020\n",
      "Epoch 80/100\n",
      "73/73 [==============================] - 3s 46ms/step - loss: 0.0021\n",
      "Epoch 81/100\n",
      "73/73 [==============================] - 3s 44ms/step - loss: 0.0022\n",
      "Epoch 82/100\n",
      "73/73 [==============================] - 3s 41ms/step - loss: 0.0020\n",
      "Epoch 83/100\n",
      "73/73 [==============================] - 3s 43ms/step - loss: 0.0019\n",
      "Epoch 84/100\n",
      "73/73 [==============================] - 3s 45ms/step - loss: 0.0021\n",
      "Epoch 85/100\n",
      "73/73 [==============================] - 3s 47ms/step - loss: 0.0020\n",
      "Epoch 86/100\n",
      "73/73 [==============================] - 3s 43ms/step - loss: 0.0020\n",
      "Epoch 87/100\n",
      "73/73 [==============================] - 3s 44ms/step - loss: 0.0024\n",
      "Epoch 88/100\n",
      "73/73 [==============================] - 3s 44ms/step - loss: 0.0018\n",
      "Epoch 89/100\n",
      "73/73 [==============================] - 3s 43ms/step - loss: 0.0019\n",
      "Epoch 90/100\n",
      "73/73 [==============================] - 3s 42ms/step - loss: 0.0022\n",
      "Epoch 91/100\n",
      "73/73 [==============================] - 3s 43ms/step - loss: 0.0019\n",
      "Epoch 92/100\n",
      "73/73 [==============================] - 3s 43ms/step - loss: 0.0021\n",
      "Epoch 93/100\n",
      "73/73 [==============================] - 3s 43ms/step - loss: 0.0018\n",
      "Epoch 94/100\n",
      "73/73 [==============================] - 3s 42ms/step - loss: 0.0018\n",
      "Epoch 95/100\n",
      "73/73 [==============================] - 3s 43ms/step - loss: 0.0019\n",
      "Epoch 96/100\n",
      "73/73 [==============================] - 3s 43ms/step - loss: 0.0023\n",
      "Epoch 97/100\n",
      "73/73 [==============================] - 3s 43ms/step - loss: 0.0023\n",
      "Epoch 98/100\n",
      "73/73 [==============================] - 3s 43ms/step - loss: 0.0019\n",
      "Epoch 99/100\n",
      "73/73 [==============================] - 3s 45ms/step - loss: 0.0019\n",
      "Epoch 100/100\n",
      "73/73 [==============================] - 3s 44ms/step - loss: 0.0019\n"
     ]
    },
    {
     "data": {
      "text/plain": [
       "<keras.src.callbacks.History at 0x1debd86a510>"
      ]
     },
     "execution_count": 18,
     "metadata": {},
     "output_type": "execute_result"
    }
   ],
   "source": [
    "regressor.fit(X_train, y_train, epochs = epochs, batch_size = batch_size)"
   ]
  },
  {
   "cell_type": "markdown",
   "id": "485988a4-1c75-4e9f-bb4b-173d83a16a5c",
   "metadata": {},
   "source": [
    "# Prediction"
   ]
  },
  {
   "cell_type": "code",
   "execution_count": 19,
   "id": "b5dc3d6a-2676-4994-9235-31bb8fb8ed03",
   "metadata": {},
   "outputs": [
    {
     "data": {
      "text/html": [
       "<div>\n",
       "<style scoped>\n",
       "    .dataframe tbody tr th:only-of-type {\n",
       "        vertical-align: middle;\n",
       "    }\n",
       "\n",
       "    .dataframe tbody tr th {\n",
       "        vertical-align: top;\n",
       "    }\n",
       "\n",
       "    .dataframe thead th {\n",
       "        text-align: right;\n",
       "    }\n",
       "</style>\n",
       "<table border=\"1\" class=\"dataframe\">\n",
       "  <thead>\n",
       "    <tr style=\"text-align: right;\">\n",
       "      <th></th>\n",
       "      <th>Date</th>\n",
       "      <th>Open</th>\n",
       "      <th>High</th>\n",
       "      <th>Low</th>\n",
       "      <th>Close</th>\n",
       "      <th>Volume</th>\n",
       "      <th>OpenInt</th>\n",
       "    </tr>\n",
       "  </thead>\n",
       "  <tbody>\n",
       "    <tr>\n",
       "      <th>1486</th>\n",
       "      <td>2016-05-24</td>\n",
       "      <td>216.60</td>\n",
       "      <td>218.74</td>\n",
       "      <td>215.18</td>\n",
       "      <td>217.91</td>\n",
       "      <td>2928659</td>\n",
       "      <td>0</td>\n",
       "    </tr>\n",
       "    <tr>\n",
       "      <th>1487</th>\n",
       "      <td>2016-05-25</td>\n",
       "      <td>217.91</td>\n",
       "      <td>221.36</td>\n",
       "      <td>216.51</td>\n",
       "      <td>219.58</td>\n",
       "      <td>2514028</td>\n",
       "      <td>0</td>\n",
       "    </tr>\n",
       "    <tr>\n",
       "      <th>1488</th>\n",
       "      <td>2016-05-26</td>\n",
       "      <td>220.50</td>\n",
       "      <td>225.26</td>\n",
       "      <td>219.05</td>\n",
       "      <td>225.12</td>\n",
       "      <td>3560997</td>\n",
       "      <td>0</td>\n",
       "    </tr>\n",
       "    <tr>\n",
       "      <th>1489</th>\n",
       "      <td>2016-05-27</td>\n",
       "      <td>224.99</td>\n",
       "      <td>225.93</td>\n",
       "      <td>220.75</td>\n",
       "      <td>223.04</td>\n",
       "      <td>3081734</td>\n",
       "      <td>0</td>\n",
       "    </tr>\n",
       "    <tr>\n",
       "      <th>1490</th>\n",
       "      <td>2016-05-31</td>\n",
       "      <td>223.04</td>\n",
       "      <td>224.75</td>\n",
       "      <td>221.50</td>\n",
       "      <td>223.23</td>\n",
       "      <td>2046828</td>\n",
       "      <td>0</td>\n",
       "    </tr>\n",
       "  </tbody>\n",
       "</table>\n",
       "</div>"
      ],
      "text/plain": [
       "            Date    Open    High     Low   Close   Volume  OpenInt\n",
       "1486  2016-05-24  216.60  218.74  215.18  217.91  2928659        0\n",
       "1487  2016-05-25  217.91  221.36  216.51  219.58  2514028        0\n",
       "1488  2016-05-26  220.50  225.26  219.05  225.12  3560997        0\n",
       "1489  2016-05-27  224.99  225.93  220.75  223.04  3081734        0\n",
       "1490  2016-05-31  223.04  224.75  221.50  223.23  2046828        0"
      ]
     },
     "execution_count": 19,
     "metadata": {},
     "output_type": "execute_result"
    }
   ],
   "source": [
    "test.head()"
   ]
  },
  {
   "cell_type": "code",
   "execution_count": 20,
   "id": "c6e08d93-b8b3-4272-92c4-b6ec1550e8e5",
   "metadata": {},
   "outputs": [
    {
     "name": "stdout",
     "output_type": "stream",
     "text": [
      "Real Price Shape -->  (372, 1)\n"
     ]
    }
   ],
   "source": [
    "real_price = test.loc[:, [\"Open\"]].values\n",
    "print(\"Real Price Shape --> \", real_price.shape)"
   ]
  },
  {
   "cell_type": "code",
   "execution_count": 21,
   "id": "d26f2667-78a3-4419-a53d-f2f69667c1a0",
   "metadata": {},
   "outputs": [],
   "source": [
    "dataset_total = pd.concat((data[\"Open\"], test[\"Open\"]), axis = 0)\n",
    "inputs = dataset_total[len(dataset_total) - len(test) - timesteps:].values.reshape(-1,1)\n",
    "inputs = scaler.transform(inputs)"
   ]
  },
  {
   "cell_type": "raw",
   "id": "ddf6e8f9-3c74-459a-b51e-fcc3b53d8a82",
   "metadata": {},
   "source": [
    "Since we use the \"Open\"feature while training we will use the same feature for our testing purpose"
   ]
  },
  {
   "cell_type": "code",
   "execution_count": 22,
   "id": "3a5c3e85-9b15-46a3-81b4-d753e0c37495",
   "metadata": {},
   "outputs": [
    {
     "name": "stdout",
     "output_type": "stream",
     "text": [
      "X_test shape -->  (372, 40)\n"
     ]
    }
   ],
   "source": [
    "X_test = []\n",
    "\n",
    "for i in range(timesteps, 412):\n",
    "    X_test.append(inputs[i-timesteps:i, 0])\n",
    "X_test = np.array(X_test)\n",
    "\n",
    "print(\"X_test shape --> \", X_test.shape)"
   ]
  },
  {
   "cell_type": "raw",
   "id": "c546202c-2a76-402d-b6cd-7e4c719cfc5f",
   "metadata": {},
   "source": [
    "We geanrated the test data on the parameters of timestep which is 40. So we can make our prediction"
   ]
  },
  {
   "cell_type": "code",
   "execution_count": 23,
   "id": "1627a124-1ef9-43ec-b2e1-77875e846387",
   "metadata": {},
   "outputs": [
    {
     "name": "stdout",
     "output_type": "stream",
     "text": [
      "12/12 [==============================] - 1s 13ms/step\n"
     ]
    }
   ],
   "source": [
    "X_test = np.reshape(X_test, (X_test.shape[0], X_test.shape[1], 1))\n",
    "predict = regressor.predict(X_test)\n",
    "predict = scaler.inverse_transform(predict)"
   ]
  },
  {
   "cell_type": "raw",
   "id": "7de4e252-79ad-4982-a515-ad91654cd040",
   "metadata": {},
   "source": [
    "Before prediction. we goint to inverse the data into back its orignal form because we normailzie the data before training"
   ]
  },
  {
   "cell_type": "markdown",
   "id": "780ba351-79c2-4034-a5c6-bbe8dbcacd25",
   "metadata": {},
   "source": [
    "# Evalution"
   ]
  },
  {
   "cell_type": "code",
   "execution_count": 25,
   "id": "69069bb6-240a-45d9-925f-ee6e5c30e33a",
   "metadata": {},
   "outputs": [
    {
     "data": {
      "image/png": "[encoded data removed]",
      "text/plain": [
       "<Figure size 640x480 with 1 Axes>"
      ]
     },
     "metadata": {},
     "output_type": "display_data"
    }
   ],
   "source": [
    "plt.plot(real_price, color = \"red\", label = \"Real Stock Price\")\n",
    "plt.plot(predict, color = \"blue\", label = \"Predict Stock Price\")\n",
    "plt.title(\"Stock Price Prediction\")\n",
    "plt.xlabel(\"Time\")\n",
    "plt.ylabel(\"Tesla Stock Price\")\n",
    "plt.legend()\n",
    "plt.show()"
   ]
  },
  {
   "cell_type": "markdown",
   "id": "b148c2d9-ec08-473f-96ae-75c3e08275ca",
   "metadata": {},
   "source": [
    "# LSTM Model"
   ]
  },
  {
   "cell_type": "code",
   "execution_count": 26,
   "id": "8440fa70-cd68-44cc-92a2-bcaacc5f232f",
   "metadata": {},
   "outputs": [],
   "source": [
    "from keras.layers import LSTM"
   ]
  },
  {
   "cell_type": "code",
   "execution_count": 27,
   "id": "70e5fdf4-71a8-4f54-b30f-25996a8ce521",
   "metadata": {},
   "outputs": [],
   "source": [
    "regressor_l = Sequential()\n",
    "\n",
    "regressor_l.add(LSTM(units = 50, return_sequences = True, input_shape = (X_train.shape[1],1)))\n",
    "regressor_l.add(Dropout(0.2))\n",
    "\n",
    "regressor_l.add(LSTM(units = 50, return_sequences = True))\n",
    "regressor_l.add(Dropout(0.2))\n",
    "\n",
    "regressor_l.add(LSTM(units = 50, return_sequences = True))\n",
    "regressor_l.add(Dropout(0.2))\n",
    "\n",
    "regressor_l.add(LSTM(units = 50))\n",
    "regressor_l.add(Dropout(0.2))\n",
    "\n",
    "regressor_l.add(Dense(units = 1))"
   ]
  },
  {
   "cell_type": "markdown",
   "id": "58690190-db50-44a3-b175-7b5324b25321",
   "metadata": {},
   "source": [
    "# Compile Model"
   ]
  },
  {
   "cell_type": "code",
   "execution_count": 29,
   "id": "66050c18-fc3a-437f-9469-7e5682a3d497",
   "metadata": {},
   "outputs": [],
   "source": [
    "regressor_l.compile(optimizer= \"adam\", loss = \"mean_squared_error\")"
   ]
  },
  {
   "cell_type": "code",
   "execution_count": 30,
   "id": "f688b4fd-8fa3-48d8-b27e-90ca8e8b28fa",
   "metadata": {},
   "outputs": [
    {
     "name": "stdout",
     "output_type": "stream",
     "text": [
      "Epoch 1/100\n",
      "73/73 [==============================] - 24s 90ms/step - loss: 0.0210\n",
      "Epoch 2/100\n",
      "73/73 [==============================] - 6s 88ms/step - loss: 0.0064\n",
      "Epoch 3/100\n",
      "73/73 [==============================] - 6s 86ms/step - loss: 0.0057\n",
      "Epoch 4/100\n",
      "73/73 [==============================] - 6s 88ms/step - loss: 0.0055\n",
      "Epoch 5/100\n",
      "73/73 [==============================] - 6s 87ms/step - loss: 0.0051\n",
      "Epoch 6/100\n",
      "73/73 [==============================] - 6s 87ms/step - loss: 0.0047\n",
      "Epoch 7/100\n",
      "73/73 [==============================] - 6s 88ms/step - loss: 0.0042\n",
      "Epoch 8/100\n",
      "73/73 [==============================] - 6s 87ms/step - loss: 0.0041\n",
      "Epoch 9/100\n",
      "73/73 [==============================] - 7s 89ms/step - loss: 0.0038\n",
      "Epoch 10/100\n",
      "73/73 [==============================] - 6s 87ms/step - loss: 0.0035\n",
      "Epoch 11/100\n",
      "73/73 [==============================] - 6s 87ms/step - loss: 0.0048\n",
      "Epoch 12/100\n",
      "73/73 [==============================] - 7s 92ms/step - loss: 0.0035\n",
      "Epoch 13/100\n",
      "73/73 [==============================] - 7s 90ms/step - loss: 0.0033\n",
      "Epoch 14/100\n",
      "73/73 [==============================] - 7s 90ms/step - loss: 0.0031\n",
      "Epoch 15/100\n",
      "73/73 [==============================] - 7s 89ms/step - loss: 0.0036\n",
      "Epoch 16/100\n",
      "73/73 [==============================] - 7s 90ms/step - loss: 0.0033\n",
      "Epoch 17/100\n",
      "73/73 [==============================] - 7s 90ms/step - loss: 0.0030\n",
      "Epoch 18/100\n",
      "73/73 [==============================] - 6s 89ms/step - loss: 0.0029\n",
      "Epoch 19/100\n",
      "73/73 [==============================] - 6s 89ms/step - loss: 0.0035\n",
      "Epoch 20/100\n",
      "73/73 [==============================] - 6s 87ms/step - loss: 0.0031\n",
      "Epoch 21/100\n",
      "73/73 [==============================] - 6s 88ms/step - loss: 0.0033\n",
      "Epoch 22/100\n",
      "73/73 [==============================] - 6s 88ms/step - loss: 0.0029\n",
      "Epoch 23/100\n",
      "73/73 [==============================] - 6s 88ms/step - loss: 0.0025\n",
      "Epoch 24/100\n",
      "73/73 [==============================] - 6s 87ms/step - loss: 0.0026\n",
      "Epoch 25/100\n",
      "73/73 [==============================] - 6s 87ms/step - loss: 0.0028\n",
      "Epoch 26/100\n",
      "73/73 [==============================] - 6s 88ms/step - loss: 0.0028\n",
      "Epoch 27/100\n",
      "73/73 [==============================] - 6s 87ms/step - loss: 0.0027\n",
      "Epoch 28/100\n",
      "73/73 [==============================] - 7s 89ms/step - loss: 0.0024\n",
      "Epoch 29/100\n",
      "73/73 [==============================] - 6s 87ms/step - loss: 0.0024\n",
      "Epoch 30/100\n",
      "73/73 [==============================] - 6s 87ms/step - loss: 0.0029\n",
      "Epoch 31/100\n",
      "73/73 [==============================] - 6s 88ms/step - loss: 0.0026\n",
      "Epoch 32/100\n",
      "73/73 [==============================] - 6s 87ms/step - loss: 0.0025\n",
      "Epoch 33/100\n",
      "73/73 [==============================] - 6s 89ms/step - loss: 0.0025\n",
      "Epoch 34/100\n",
      "73/73 [==============================] - 6s 86ms/step - loss: 0.0023\n",
      "Epoch 35/100\n",
      "73/73 [==============================] - 7s 93ms/step - loss: 0.0022\n",
      "Epoch 36/100\n",
      "73/73 [==============================] - 6s 88ms/step - loss: 0.0021\n",
      "Epoch 37/100\n",
      "73/73 [==============================] - 7s 89ms/step - loss: 0.0024\n",
      "Epoch 38/100\n",
      "73/73 [==============================] - 6s 87ms/step - loss: 0.0023\n",
      "Epoch 39/100\n",
      "73/73 [==============================] - 6s 88ms/step - loss: 0.0022\n",
      "Epoch 40/100\n",
      "73/73 [==============================] - 6s 87ms/step - loss: 0.0020\n",
      "Epoch 41/100\n",
      "73/73 [==============================] - 7s 90ms/step - loss: 0.0020\n",
      "Epoch 42/100\n",
      "73/73 [==============================] - 6s 88ms/step - loss: 0.0022\n",
      "Epoch 43/100\n",
      "73/73 [==============================] - 6s 87ms/step - loss: 0.0021\n",
      "Epoch 44/100\n",
      "73/73 [==============================] - 6s 88ms/step - loss: 0.0020\n",
      "Epoch 45/100\n",
      "73/73 [==============================] - 6s 89ms/step - loss: 0.0021\n",
      "Epoch 46/100\n",
      "73/73 [==============================] - 6s 88ms/step - loss: 0.0019\n",
      "Epoch 47/100\n",
      "73/73 [==============================] - 6s 89ms/step - loss: 0.0019\n",
      "Epoch 48/100\n",
      "73/73 [==============================] - 6s 87ms/step - loss: 0.0019\n",
      "Epoch 49/100\n",
      "73/73 [==============================] - 6s 88ms/step - loss: 0.0020\n",
      "Epoch 50/100\n",
      "73/73 [==============================] - 7s 92ms/step - loss: 0.0019\n",
      "Epoch 51/100\n",
      "73/73 [==============================] - 7s 91ms/step - loss: 0.0019\n",
      "Epoch 52/100\n",
      "73/73 [==============================] - 7s 90ms/step - loss: 0.0021\n",
      "Epoch 53/100\n",
      "73/73 [==============================] - 7s 90ms/step - loss: 0.0019\n",
      "Epoch 54/100\n",
      "73/73 [==============================] - 7s 93ms/step - loss: 0.0017\n",
      "Epoch 55/100\n",
      "73/73 [==============================] - 7s 92ms/step - loss: 0.0019\n",
      "Epoch 56/100\n",
      "73/73 [==============================] - 7s 90ms/step - loss: 0.0021\n",
      "Epoch 57/100\n",
      "73/73 [==============================] - 6s 87ms/step - loss: 0.0020\n",
      "Epoch 58/100\n",
      "73/73 [==============================] - 6s 89ms/step - loss: 0.0019\n",
      "Epoch 59/100\n",
      "73/73 [==============================] - 6s 88ms/step - loss: 0.0019\n",
      "Epoch 60/100\n",
      "73/73 [==============================] - 6s 89ms/step - loss: 0.0019\n",
      "Epoch 61/100\n",
      "73/73 [==============================] - 6s 89ms/step - loss: 0.0021\n",
      "Epoch 62/100\n",
      "73/73 [==============================] - 7s 90ms/step - loss: 0.0018\n",
      "Epoch 63/100\n",
      "73/73 [==============================] - 6s 88ms/step - loss: 0.0017\n",
      "Epoch 64/100\n",
      "73/73 [==============================] - 7s 91ms/step - loss: 0.0021\n",
      "Epoch 65/100\n",
      "73/73 [==============================] - 7s 89ms/step - loss: 0.0019\n",
      "Epoch 66/100\n",
      "73/73 [==============================] - 6s 88ms/step - loss: 0.0017\n",
      "Epoch 67/100\n",
      "73/73 [==============================] - 6s 88ms/step - loss: 0.0021\n",
      "Epoch 68/100\n",
      "73/73 [==============================] - 6s 88ms/step - loss: 0.0018\n",
      "Epoch 69/100\n",
      "73/73 [==============================] - 6s 87ms/step - loss: 0.0017\n",
      "Epoch 70/100\n",
      "73/73 [==============================] - 6s 88ms/step - loss: 0.0015\n",
      "Epoch 71/100\n",
      "73/73 [==============================] - 6s 87ms/step - loss: 0.0017\n",
      "Epoch 72/100\n",
      "73/73 [==============================] - 7s 90ms/step - loss: 0.0020\n",
      "Epoch 73/100\n",
      "73/73 [==============================] - 6s 87ms/step - loss: 0.0017\n",
      "Epoch 74/100\n",
      "73/73 [==============================] - 7s 90ms/step - loss: 0.0017\n",
      "Epoch 75/100\n",
      "73/73 [==============================] - 6s 88ms/step - loss: 0.0016\n",
      "Epoch 76/100\n",
      "73/73 [==============================] - 6s 88ms/step - loss: 0.0015\n",
      "Epoch 77/100\n",
      "73/73 [==============================] - 6s 88ms/step - loss: 0.0016\n",
      "Epoch 78/100\n",
      "73/73 [==============================] - 6s 87ms/step - loss: 0.0016\n",
      "Epoch 79/100\n",
      "73/73 [==============================] - 6s 88ms/step - loss: 0.0016\n",
      "Epoch 80/100\n",
      "73/73 [==============================] - 6s 87ms/step - loss: 0.0016\n",
      "Epoch 81/100\n",
      "73/73 [==============================] - 6s 89ms/step - loss: 0.0018\n",
      "Epoch 82/100\n",
      "73/73 [==============================] - 6s 89ms/step - loss: 0.0017\n",
      "Epoch 83/100\n",
      "73/73 [==============================] - 7s 89ms/step - loss: 0.0015\n",
      "Epoch 84/100\n",
      "73/73 [==============================] - 6s 87ms/step - loss: 0.0016\n",
      "Epoch 85/100\n",
      "73/73 [==============================] - 6s 88ms/step - loss: 0.0016\n",
      "Epoch 86/100\n",
      "73/73 [==============================] - 6s 88ms/step - loss: 0.0016\n",
      "Epoch 87/100\n",
      "73/73 [==============================] - 6s 88ms/step - loss: 0.0017\n",
      "Epoch 88/100\n",
      "73/73 [==============================] - 7s 90ms/step - loss: 0.0016\n",
      "Epoch 89/100\n",
      "73/73 [==============================] - 7s 94ms/step - loss: 0.0018\n",
      "Epoch 90/100\n",
      "73/73 [==============================] - 6s 88ms/step - loss: 0.0015\n",
      "Epoch 91/100\n",
      "73/73 [==============================] - 6s 87ms/step - loss: 0.0014\n",
      "Epoch 92/100\n",
      "73/73 [==============================] - 6s 88ms/step - loss: 0.0015\n",
      "Epoch 93/100\n",
      "73/73 [==============================] - 6s 88ms/step - loss: 0.0016\n",
      "Epoch 94/100\n",
      "73/73 [==============================] - 6s 87ms/step - loss: 0.0015\n",
      "Epoch 95/100\n",
      "73/73 [==============================] - 6s 87ms/step - loss: 0.0015\n",
      "Epoch 96/100\n",
      "73/73 [==============================] - 6s 87ms/step - loss: 0.0014\n",
      "Epoch 97/100\n",
      "73/73 [==============================] - 6s 88ms/step - loss: 0.0015\n",
      "Epoch 98/100\n",
      "73/73 [==============================] - 6s 88ms/step - loss: 0.0019\n",
      "Epoch 99/100\n",
      "73/73 [==============================] - 6s 87ms/step - loss: 0.0014\n",
      "Epoch 100/100\n",
      "73/73 [==============================] - 6s 87ms/step - loss: 0.0013\n"
     ]
    },
    {
     "data": {
      "text/plain": [
       "<keras.src.callbacks.History at 0x1decc03ead0>"
      ]
     },
     "execution_count": 30,
     "metadata": {},
     "output_type": "execute_result"
    }
   ],
   "source": [
    "regressor_l.fit(X_train, y_train, epochs = epochs, batch_size = batch_size)"
   ]
  },
  {
   "cell_type": "markdown",
   "id": "a26c0d8b-f05e-4163-b4fa-623de092491a",
   "metadata": {},
   "source": [
    "# Predict The LSTM"
   ]
  },
  {
   "cell_type": "code",
   "execution_count": 32,
   "id": "54ee6bd7-c070-48dd-818c-2232d52f1dc1",
   "metadata": {},
   "outputs": [
    {
     "name": "stdout",
     "output_type": "stream",
     "text": [
      "12/12 [==============================] - 4s 32ms/step\n"
     ]
    }
   ],
   "source": [
    "predict_l = regressor_l.predict(X_test)\n",
    "predict_l = scaler.inverse_transform(predict_l)"
   ]
  },
  {
   "cell_type": "code",
   "execution_count": 33,
   "id": "5d3b4510-3a3b-4f5b-b9c5-6c1e831ca5ce",
   "metadata": {},
   "outputs": [
    {
     "data": {
      "image/png": "[encoded data removed]",
      "text/plain": [
       "<Figure size 640x480 with 1 Axes>"
      ]
     },
     "metadata": {},
     "output_type": "display_data"
    }
   ],
   "source": [
    "plt.plot(real_price, color = \"red\", label = \"Real Stock Price\")\n",
    "plt.plot(predict_l, color = \"blue\", label = \"Predict Stock Price LSTM\")\n",
    "plt.title(\"Stock Price Prediction\")\n",
    "plt.xlabel(\"Time\")\n",
    "plt.ylabel(\"Tesla Stock Price\")\n",
    "plt.legend()\n",
    "plt.show()"
   ]
  },
  {
   "cell_type": "markdown",
   "id": "6049493c-57a1-41a9-8116-54be62265e0c",
   "metadata": {},
   "source": [
    "# Comparison"
   ]
  },
  {
   "cell_type": "code",
   "execution_count": 35,
   "id": "cf061dd7-1366-4e86-9cf6-30f479eb6295",
   "metadata": {},
   "outputs": [
    {
     "data": {
      "image/png": "[encoded data removed]",
      "text/plain": [
       "<Figure size 640x480 with 1 Axes>"
      ]
     },
     "metadata": {},
     "output_type": "display_data"
    }
   ],
   "source": [
    "plt.plot(real_price, color = \"red\", label = \"Real Stock Price\")\n",
    "plt.plot(predict, color = \"green\", label = \"Predict Stock Price Simple RNN\")\n",
    "plt.plot(predict_l, color = \"blue\", label = \"Predict Stock Price LSTM\")\n",
    "plt.title(\"Stock Price Prediction\")\n",
    "plt.xlabel(\"Time\")\n",
    "plt.ylabel(\"Tesla Stock Price\")\n",
    "plt.legend()\n",
    "plt.show()"
   ]
  },
  {
   "cell_type": "code",
   "execution_count": null,
   "id": "f38a7b04-3fcd-4d0a-9476-c06afbc4e9a7",
   "metadata": {},
   "outputs": [],
   "source": []
  }
 ],
 "metadata": {
  "kernelspec": {
   "display_name": "Python 3 (ipykernel)",
   "language": "python",
   "name": "python3"
  },
  "language_info": {
   "codemirror_mode": {
    "name": "ipython",
    "version": 3
   },
   "file_extension": ".py",
   "mimetype": "text/x-python",
   "name": "python",
   "nbconvert_exporter": "python",
   "pygments_lexer": "ipython3",
   "version": "3.11.4"
  }
 },
 "nbformat": 4,
 "nbformat_minor": 5
}
